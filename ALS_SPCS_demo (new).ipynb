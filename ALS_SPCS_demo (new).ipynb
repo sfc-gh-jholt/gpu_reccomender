{
 "cells": [
  {
   "cell_type": "markdown",
   "id": "05c0cd93-c31d-4ac2-9e2f-85a43964e7d2",
   "metadata": {},
   "source": [
    "# $$\\ Snowpark\\ ALS\\ Model\\ Registry$$"
   ]
  },
  {
   "cell_type": "code",
   "execution_count": 1,
   "id": "57c58616-26c0-460e-9544-ce086770c049",
   "metadata": {
    "scrolled": true
   },
   "outputs": [],
   "source": [
    "%run helper_functions.ipynb"
   ]
  },
  {
   "cell_type": "code",
   "execution_count": 2,
   "id": "55f4c014-4717-4356-89b6-71af823fb1c7",
   "metadata": {},
   "outputs": [],
   "source": [
    "connection_parameters = json.load(open('connection.json'))\n",
    "session = Session.builder.configs(connection_parameters).create()"
   ]
  },
  {
   "cell_type": "code",
   "execution_count": 3,
   "id": "3337b4b0-9f07-4c5c-bb3e-9b35e2271134",
   "metadata": {},
   "outputs": [
    {
     "data": {
      "text/plain": [
       "'\"LARGE_JOB\"'"
      ]
     },
     "execution_count": 3,
     "metadata": {},
     "output_type": "execute_result"
    }
   ],
   "source": [
    "session.get_current_warehouse()"
   ]
  },
  {
   "cell_type": "code",
   "execution_count": 4,
   "id": "de7f2abd-a185-442a-bd45-3aa3a6469aae",
   "metadata": {},
   "outputs": [],
   "source": [
    "data = session.table('EVENTS_DATA_CLEANED')\n",
    "original_data = data.to_pandas()"
   ]
  },
  {
   "cell_type": "code",
   "execution_count": 5,
   "id": "c9b7df0d-ea6a-4be8-84a0-d92954cc3615",
   "metadata": {},
   "outputs": [
    {
     "data": {
      "text/plain": [
       "(2756101, 9)"
      ]
     },
     "execution_count": 5,
     "metadata": {},
     "output_type": "execute_result"
    }
   ],
   "source": [
    "original_data.shape"
   ]
  },
  {
   "cell_type": "markdown",
   "id": "13500a1d-47e1-4753-9545-63db50d050ca",
   "metadata": {},
   "source": [
    "## Data Wrangling"
   ]
  },
  {
   "cell_type": "code",
   "execution_count": 6,
   "id": "776209e3-7200-44a6-85a8-6d73ded31554",
   "metadata": {},
   "outputs": [],
   "source": [
    "# Basic Data Wrangling\n",
    "original_data['TRANSACTIONID'] = 0\n",
    "original_data['TS_DATE'] = original_data['TS_DATE'].astype(str)\n",
    "\n",
    "mapping = {value: index for index, value in enumerate(original_data['EVENT'].unique())}\n",
    "original_data['EVENT'] = original_data['EVENT'].replace(mapping)\n"
   ]
  },
  {
   "cell_type": "markdown",
   "id": "d51ee4ff-60e0-4577-8a6d-2506d6236884",
   "metadata": {},
   "source": [
    "### Model Registry"
   ]
  },
  {
   "cell_type": "code",
   "execution_count": 7,
   "id": "43851c0c-ae01-488d-9d16-6353956b5a61",
   "metadata": {},
   "outputs": [
    {
     "data": {
      "application/vnd.jupyter.widget-view+json": {
       "model_id": "09419ea50f1d457fbb1914401720cab7",
       "version_major": 2,
       "version_minor": 0
      },
      "text/plain": [
       "  0%|          | 0/20 [00:00<?, ?it/s]"
      ]
     },
     "metadata": {},
     "output_type": "display_data"
    },
    {
     "name": "stdout",
     "output_type": "stream",
     "text": [
      "Execution time: 34.69214844703674 seconds\n"
     ]
    }
   ],
   "source": [
    "import time\n",
    "\n",
    "\n",
    "\n",
    "model = implicit.als.AlternatingLeastSquares(factors=20, regularization=0.1, iterations=20)\n",
    "\n",
    "# Convert training DataFrame to sparse matrices\n",
    "sparse_user_item = sparse.csr_matrix((original_data['EVENT'].astype(float), (original_data['VISITOR_ID'], original_data['ITEMID'])))\n",
    "alpha_val = 40\n",
    "data_conf = (sparse_user_item * alpha_val).astype('double')\n",
    "\n",
    "start_time = time.time()\n",
    "\n",
    "model.fit(data_conf)\n",
    "\n",
    "end_time = time.time()\n",
    "\n",
    "execution_time = end_time - start_time\n",
    "\n",
    "print(\"Execution time:\", execution_time, \"seconds\")"
   ]
  },
  {
   "cell_type": "code",
   "execution_count": 8,
   "id": "06d66180-9b2c-437f-a236-c6f20185e3c8",
   "metadata": {},
   "outputs": [
    {
     "data": {
      "text/plain": [
       "['/tmp/als_m1.pkl']"
      ]
     },
     "execution_count": 8,
     "metadata": {},
     "output_type": "execute_result"
    }
   ],
   "source": [
    "from snowflake.ml.model import custom_model\n",
    "saving_location = '/tmp/als_m1.pkl'\n",
    "\n",
    "# Serialize the model to a file\n",
    "from joblib import dump, load\n",
    "dump(model, saving_location) \n",
    "\n"
   ]
  },
  {
   "cell_type": "code",
   "execution_count": 9,
   "id": "bd3628c2-24b4-4731-a6fd-cf7c644c044e",
   "metadata": {},
   "outputs": [],
   "source": [
    "registry = Registry(session, database_name=\"MILES\", schema_name=\"NOTEBOOK_DEMO\")\n",
    "MODEL_NAME = \"als_m1\"\n",
    "\n",
    "mc = custom_model.ModelContext(\n",
    "      \n",
    "    artifacts={\n",
    "        MODEL_NAME: saving_location     #  use artifacts section of model context. Models should be for models supported by model registry OOTB  \n",
    "    }\n",
    ")\n"
   ]
  },
  {
   "cell_type": "code",
   "execution_count": 12,
   "id": "41f6da0b-d7bd-405f-bbe6-be6ad7470f83",
   "metadata": {},
   "outputs": [],
   "source": [
    "mymodelpipeline = ALSModel(mc)\n",
    "version_name = 'v1'"
   ]
  },
  {
   "cell_type": "code",
   "execution_count": 34,
   "id": "340400c2-9ca2-4318-a40f-7e024ad32298",
   "metadata": {
    "scrolled": true
   },
   "outputs": [],
   "source": [
    "mv = registry.log_model(mymodelpipeline,\n",
    "                        model_name=MODEL_NAME,\n",
    "                        version_name=version_name,                        \n",
    "                        conda_dependencies=[\"implicit\",'joblib==1.4.0'],\n",
    "                        comment='ALS model example',                        \n",
    "                        sample_input_data = data,\n",
    "                        options={\"embed_local_ml_library\": True}\n",
    "                    )"
   ]
  },
  {
   "cell_type": "code",
   "execution_count": 37,
   "id": "8e8112ac-eaf2-4a69-a949-ee8387565638",
   "metadata": {},
   "outputs": [
    {
     "name": "stdout",
     "output_type": "stream",
     "text": [
      "Execution time: 138.85317850112915 seconds\n"
     ]
    }
   ],
   "source": [
    "start_time = time.time()\n",
    "\n",
    "recommend_df = mv.run(X = original_data, function_name = 'predict')\n",
    "\n",
    "end_time = time.time()\n",
    "\n",
    "execution_time = end_time - start_time\n",
    "\n",
    "print(\"Execution time:\", execution_time, \"seconds\")"
   ]
  },
  {
   "cell_type": "code",
   "execution_count": 41,
   "id": "6a617cf8-64ee-42db-8ed6-0228be9d4049",
   "metadata": {},
   "outputs": [
    {
     "data": {
      "text/plain": [
       "2.3142196416854857"
      ]
     },
     "execution_count": 41,
     "metadata": {},
     "output_type": "execute_result"
    }
   ],
   "source": [
    "138.85317850112915 / 60"
   ]
  },
  {
   "cell_type": "code",
   "execution_count": 13,
   "id": "329fe705-78f2-4783-b506-e18621f9565c",
   "metadata": {},
   "outputs": [],
   "source": [
    "mv_load = registry.get_model(model_name = MODEL_NAME)\n",
    "mv_load_version = mv_load.version(version_name = version_name)"
   ]
  },
  {
   "cell_type": "code",
   "execution_count": 14,
   "id": "b9ea3840-2a62-4cec-a4b0-a685f5a36a5a",
   "metadata": {},
   "outputs": [
    {
     "name": "stdout",
     "output_type": "stream",
     "text": [
      "Execution time: 147.7322061061859 seconds\n"
     ]
    }
   ],
   "source": [
    "\n",
    "\n",
    "start_time = time.time()\n",
    "\n",
    "recommend_df = mv_load_version.run(X = original_data, function_name = 'predict')\n",
    "\n",
    "end_time = time.time()\n",
    "\n",
    "execution_time = end_time - start_time\n",
    "\n",
    "print(\"Execution time:\", execution_time, \"seconds\")"
   ]
  },
  {
   "cell_type": "code",
   "execution_count": 15,
   "id": "0b633584-70ab-4f95-9284-ce1103cb1cab",
   "metadata": {},
   "outputs": [
    {
     "data": {
      "text/plain": [
       "2.4622034351030986"
      ]
     },
     "execution_count": 15,
     "metadata": {},
     "output_type": "execute_result"
    }
   ],
   "source": [
    "147.7322061061859 / 60"
   ]
  },
  {
   "cell_type": "code",
   "execution_count": 59,
   "id": "2d7f77eb-cf51-4ee8-b0e7-b97ba50830a0",
   "metadata": {},
   "outputs": [
    {
     "data": {
      "text/plain": [
       "'\"LARGE_JOB\"'"
      ]
     },
     "execution_count": 59,
     "metadata": {},
     "output_type": "execute_result"
    }
   ],
   "source": [
    "session.get_current_warehouse()"
   ]
  },
  {
   "cell_type": "code",
   "execution_count": 38,
   "id": "4c9ebb28-001b-43f9-bd5a-c427aa69ef05",
   "metadata": {},
   "outputs": [
    {
     "data": {
      "text/html": [
       "<div>\n",
       "<style scoped>\n",
       "    .dataframe tbody tr th:only-of-type {\n",
       "        vertical-align: middle;\n",
       "    }\n",
       "\n",
       "    .dataframe tbody tr th {\n",
       "        vertical-align: top;\n",
       "    }\n",
       "\n",
       "    .dataframe thead th {\n",
       "        text-align: right;\n",
       "    }\n",
       "</style>\n",
       "<table border=\"1\" class=\"dataframe\">\n",
       "  <thead>\n",
       "    <tr style=\"text-align: right;\">\n",
       "      <th></th>\n",
       "      <th>rec1</th>\n",
       "      <th>rec2</th>\n",
       "      <th>rec3</th>\n",
       "      <th>rec4</th>\n",
       "      <th>rec5</th>\n",
       "    </tr>\n",
       "  </thead>\n",
       "  <tbody>\n",
       "    <tr>\n",
       "      <th>0</th>\n",
       "      <td>461686</td>\n",
       "      <td>46232</td>\n",
       "      <td>409804</td>\n",
       "      <td>234255</td>\n",
       "      <td>287449</td>\n",
       "    </tr>\n",
       "    <tr>\n",
       "      <th>1</th>\n",
       "      <td>318333</td>\n",
       "      <td>316472</td>\n",
       "      <td>236158</td>\n",
       "      <td>42002</td>\n",
       "      <td>57245</td>\n",
       "    </tr>\n",
       "    <tr>\n",
       "      <th>2</th>\n",
       "      <td>46156</td>\n",
       "      <td>113535</td>\n",
       "      <td>159822</td>\n",
       "      <td>130113</td>\n",
       "      <td>340375</td>\n",
       "    </tr>\n",
       "    <tr>\n",
       "      <th>3</th>\n",
       "      <td>461686</td>\n",
       "      <td>46232</td>\n",
       "      <td>409804</td>\n",
       "      <td>234255</td>\n",
       "      <td>287449</td>\n",
       "    </tr>\n",
       "    <tr>\n",
       "      <th>4</th>\n",
       "      <td>299222</td>\n",
       "      <td>254418</td>\n",
       "      <td>217605</td>\n",
       "      <td>233695</td>\n",
       "      <td>315545</td>\n",
       "    </tr>\n",
       "  </tbody>\n",
       "</table>\n",
       "</div>"
      ],
      "text/plain": [
       "     rec1    rec2    rec3    rec4    rec5\n",
       "0  461686   46232  409804  234255  287449\n",
       "1  318333  316472  236158   42002   57245\n",
       "2   46156  113535  159822  130113  340375\n",
       "3  461686   46232  409804  234255  287449\n",
       "4  299222  254418  217605  233695  315545"
      ]
     },
     "execution_count": 38,
     "metadata": {},
     "output_type": "execute_result"
    }
   ],
   "source": [
    "recommend_df.head()"
   ]
  },
  {
   "cell_type": "code",
   "execution_count": 39,
   "id": "9ed84c74-87f5-431a-b9b5-564cf5f4f2b3",
   "metadata": {},
   "outputs": [],
   "source": [
    "original_data_snowpark_dataframe= session.create_dataframe(original_data)            \n",
    "original_data_snowpark_dataframe.write.save_as_table('EVENTS_DATA_CLEANED_SNOWPARK')"
   ]
  },
  {
   "cell_type": "code",
   "execution_count": null,
   "id": "56a7bdb7-bffa-4461-b570-a009d87db41e",
   "metadata": {},
   "outputs": [],
   "source": []
  },
  {
   "cell_type": "code",
   "execution_count": null,
   "id": "ca534627-187f-4cac-bb74-3cfc61c6ede1",
   "metadata": {},
   "outputs": [],
   "source": []
  },
  {
   "cell_type": "code",
   "execution_count": null,
   "id": "b022409d-6948-4467-b4be-f2089c8d05a1",
   "metadata": {
    "scrolled": true
   },
   "outputs": [],
   "source": []
  },
  {
   "cell_type": "code",
   "execution_count": null,
   "id": "ebfa14ae-560c-4fcf-9f16-578f3a36a7da",
   "metadata": {},
   "outputs": [],
   "source": []
  },
  {
   "cell_type": "code",
   "execution_count": null,
   "id": "4fce4f8f-bc06-497a-8387-cda1019d248d",
   "metadata": {},
   "outputs": [],
   "source": []
  },
  {
   "cell_type": "code",
   "execution_count": null,
   "id": "e77ff95f-aea2-4d21-991f-8c6f84b66f43",
   "metadata": {},
   "outputs": [],
   "source": []
  },
  {
   "cell_type": "code",
   "execution_count": null,
   "id": "02704283-5d40-430f-a991-f06af9345378",
   "metadata": {},
   "outputs": [],
   "source": []
  }
 ],
 "metadata": {
  "kernelspec": {
   "display_name": "Python 3 (ipykernel)",
   "language": "python",
   "name": "python3"
  },
  "language_info": {
   "codemirror_mode": {
    "name": "ipython",
    "version": 3
   },
   "file_extension": ".py",
   "mimetype": "text/x-python",
   "name": "python",
   "nbconvert_exporter": "python",
   "pygments_lexer": "ipython3",
   "version": "3.10.14"
  }
 },
 "nbformat": 4,
 "nbformat_minor": 5
}
